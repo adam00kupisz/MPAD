{
 "cells": [
  {
   "cell_type": "code",
   "execution_count": 23,
   "id": "7377cc9a-7a36-43a2-9be6-704f958ca158",
   "metadata": {},
   "outputs": [],
   "source": [
    "import matplotlib.pyplot as plt"
   ]
  },
  {
   "cell_type": "code",
   "execution_count": 27,
   "id": "4a4b8cd7",
   "metadata": {},
   "outputs": [],
   "source": [
    "class BayesianInference:\n",
    "    # Konstruktor klasy\n",
    "    def __init__(self):\n",
    "        \"\"\"Zbiór wszystkich prawdopodobieństw\"\"\"\n",
    "        self.probabilities = {}\n",
    "\n",
    "    # Metoda ustawiania prawdopodobieństwa\n",
    "    def set_probability(self, event, given, value):\n",
    "        \"\"\"Przykład: p(b|I) = value -> set_probability('b', 'I', value)\"\"\"\n",
    "        self.probabilities[(event, given)] = value\n",
    "\n",
    "    # Metoda dostępu do wartości prawdopodobieństw\n",
    "    def get_probability(self, event, given=None):\n",
    "        \"\"\"Przykład: get_probability('b', 'I') -> p(b|I). Jeśli 'given' is None -> p(b).\"\"\"\n",
    "        if given is not None:\n",
    "            if self.probabilities.get((event, given), None) is None:\n",
    "                reverse_prob = self.probabilities.get((given, event), None)\n",
    "                marginal_event = self.probabilities.get((event, None), None)\n",
    "                marginal_given = self.probabilities.get((given, None), None)\n",
    "                if reverse_prob is not None and marginal_event is not None and marginal_given is not None:\n",
    "                    prob = (reverse_prob * marginal_event) / marginal_given\n",
    "                    self.set_probability(event, given, prob)\n",
    "                    return prob\n",
    "                else:\n",
    "                    return None\n",
    "            return self.probabilities.get((event, given), None)\n",
    "        else:\n",
    "            return self.probabilities.get((event, None), None)\n",
    "\n",
    "    # Metoda obliczania prawdopodobieństw z wielu dowodów\n",
    "    def calculate_posterior(self, target, evidence):\n",
    "        \"\"\"Przykład: p(I|a,b) = (p(a|I) * p(b|I) * p(I)) / (p(I) * p(a,b|I) + p(~I) * p(a,b|~I))\"\"\"\n",
    "        # Krok 1: Obliczamy p(a,b|I) = p(a|I) * p(b|I)\n",
    "        pab_I = self.calculate_joint_probability(target, evidence, given_target=True)\n",
    "\n",
    "        # Krok 2: Obliczamy p(~I)\n",
    "        pI = self.get_probability(target)\n",
    "        pnI = 1 - pI\n",
    "\n",
    "        # Krok 3: Obliczamy p(a|~I) i p(b|~I)\n",
    "        marginal_probs = {}\n",
    "        for ev in evidence:\n",
    "            pa = self.get_probability(ev)  # p(a)\n",
    "            pa_I = self.get_probability(ev, target)  # p(a|I)\n",
    "            pa_nI = (pa - pI * pa_I) / pnI  # p(a|~I)\n",
    "            marginal_probs[ev] = pa_nI\n",
    "\n",
    "        # Krok 4: Obliczamy p(a,b|~I) = p(a|~I) * p(b|~I)\n",
    "        pab_nI = 1\n",
    "        for ev in evidence:\n",
    "            pab_nI *= marginal_probs[ev]\n",
    "\n",
    "        # Krok 5: Obliczamy p(I|a,b)\n",
    "        numerator = pab_I * pI\n",
    "        denominator = pI * pab_I + pnI * pab_nI\n",
    "\n",
    "        return numerator / denominator\n",
    "\n",
    "    def calculate_joint_probability(self, target, evidence, given_target=False):\n",
    "        \"\"\"\n",
    "        Oblicza wspólne prawdopodobieństwo p(a,b|I) lub p(a,b|~I), w zależności od parametru 'given_target'.\n",
    "        \"\"\"\n",
    "        joint_prob = 1  # Zaczynamy od neutralnego iloczynu\n",
    "        for ev in evidence:\n",
    "            if given_target:\n",
    "                # Obliczamy p(ev|target)\n",
    "                p_ev_given_target = self.get_probability(ev, target)\n",
    "                if p_ev_given_target is None:\n",
    "                    raise ValueError(f\"Brak możliwości obliczenia p({ev}|{target})\")\n",
    "                joint_prob *= p_ev_given_target\n",
    "            else:\n",
    "                # Obliczamy p(ev)\n",
    "                p_ev = self.get_probability(ev)\n",
    "                if p_ev is None:\n",
    "                    raise ValueError(f\"Brak możliwości obliczenia p({ev})\")\n",
    "                joint_prob *= p_ev\n",
    "        return joint_prob\n"
   ]
  },
  {
   "cell_type": "code",
   "execution_count": 28,
   "id": "b3795fbd",
   "metadata": {},
   "outputs": [
    {
     "name": "stdout",
     "output_type": "stream",
     "text": [
      "Prawdopodobieństwo p(I|a,b): 0.27222601071602537\n"
     ]
    }
   ],
   "source": [
    "bayesian = BayesianInference()\n",
    "bayesian.set_probability('I', None, 0.002)  # p(I)\n",
    "bayesian.set_probability('a', 'I', 0.8)  # p(a|I)\n",
    "bayesian.set_probability('b', 'I', 0.98)  # p(b|I)\n",
    "bayesian.set_probability('a', None, 0.01)  # p(a)\n",
    "bayesian.set_probability('b', None, 0.5)  # p(b)\n",
    "\n",
    "#Obliczanie p(I|a,b)\n",
    "posterior = bayesian.calculate_posterior('I', ['a', 'b'])\n",
    "print(f\"Prawdopodobieństwo p(I|a,b): {posterior}\")\n"
   ]
  },
  {
   "cell_type": "code",
   "execution_count": 29,
   "id": "d2060242",
   "metadata": {},
   "outputs": [
    {
     "data": {
      "image/png": "[encoded data removed]",
      "text/plain": [
       "<Figure size 640x480 with 1 Axes>"
      ]
     },
     "metadata": {},
     "output_type": "display_data"
    }
   ],
   "source": [
    "posteriors = []\n",
    "dogs_number = [1, 2, 3, 4, 5]\n",
    "evidence = ['a']\n",
    "\n",
    "bayesian = BayesianInference()\n",
    "bayesian.set_probability('I', None, 0.002)  # p(I)\n",
    "bayesian.set_probability('a', 'I', 0.8)     # p(a|I)\n",
    "bayesian.set_probability('a', None, 0.01)   # p(a)\n",
    "\n",
    "for d_num in dogs_number:\n",
    "    bayesian.set_probability(f'd{d_num}', 'I', 0.98)\n",
    "    bayesian.set_probability(f'd{d_num}', None, 0.5)\n",
    "    evidence.append(f'd{d_num}')\n",
    "    posteriors.append(bayesian.calculate_posterior('I', evidence))\n",
    "\n",
    "plt.title('Prawdopodobieństwo włamania dla różnej liczby psów u sąsiadów (psy jednakowe)')\n",
    "plt.scatter(posteriors, dogs_number)\n",
    "plt.xlabel('p(I|a, d1, d2...)')\n",
    "plt.ylabel('dogs number')\n",
    "plt.yticks(dogs_number)\n",
    "plt.xticks(posteriors)\n",
    "plt.show()"
   ]
  },
  {
   "cell_type": "code",
   "execution_count": null,
   "id": "3c67f586",
   "metadata": {},
   "outputs": [],
   "source": [
    "#W sytuacji gdy alarm sygnalizuje światłem i dźwiękiem, że wykrył włamanie nie można zastosować tego samego podejścia\n",
    "#co w przypadku gdy alarm jedynie wysyła komunikat na telefon. W nowym przypadku alarm może doprowadzić do tego,\n",
    "#że pies sąsiada zacznie szczekać, a więc pies niekoniecznie sam wykryje włamanie. W tej sytuacji mamy doczynienia z\n",
    "#prawdopodobieństwem zależnym."
   ]
  }
 ],
 "metadata": {
  "kernelspec": {
   "display_name": "python3.11.7",
   "language": "python",
   "name": "python3"
  },
  "language_info": {
   "codemirror_mode": {
    "name": "ipython",
    "version": 3
   },
   "file_extension": ".py",
   "mimetype": "text/x-python",
   "name": "python",
   "nbconvert_exporter": "python",
   "pygments_lexer": "ipython3",
   "version": "3.11.7"
  }
 },
 "nbformat": 4,
 "nbformat_minor": 5
}

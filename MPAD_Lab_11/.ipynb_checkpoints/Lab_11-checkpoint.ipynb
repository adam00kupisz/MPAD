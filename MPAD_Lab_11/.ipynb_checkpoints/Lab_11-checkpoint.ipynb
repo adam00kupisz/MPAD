{
 "cells": [
  {
   "cell_type": "code",
   "execution_count": 13,
   "id": "6261559e-288f-4197-b881-d5708646889f",
   "metadata": {},
   "outputs": [],
   "source": [
    "import pymc as pm\n",
    "import matplotlib.pyplot as plt\n",
    "from scipy.stats import beta\n",
    "import numpy as np\n",
    "import pandas as pd\n",
    "import arviz as az\n",
    "from scipy.optimize import fmin\n",
    "import openpyxl"
   ]
  },
  {
   "cell_type": "code",
   "execution_count": 2,
   "id": "f3c481ec-0d81-40ef-b6b9-bbb81e09b99e",
   "metadata": {},
   "outputs": [],
   "source": [
    "class Batch:\n",
    "    quality = 0.5\n",
    "    alpha = 1\n",
    "    beta = 1\n",
    "    \n",
    "    def __init__(self, quality):\n",
    "        self.quality = quality\n",
    "        \n",
    "    def sample_distribution(self):\n",
    "        return np.random.beta(self.alpha, self.beta)\n",
    "        \n",
    "    def get_element(self):\n",
    "        good = np.random.rand() < self.quality\n",
    "        self.alpha = self.alpha + int(good)\n",
    "        self.beta = self.beta + 1 - int(good)\n",
    "        return good"
   ]
  },
  {
   "cell_type": "code",
   "execution_count": 3,
   "id": "7b3e2b31-d991-4fc4-a46f-9131682e115d",
   "metadata": {},
   "outputs": [],
   "source": [
    "class Factory:\n",
    "    batches = []\n",
    "    systems = 0\n",
    "    good = 0\n",
    "    \n",
    "    def set_batches(self, qualities):\n",
    "        self.batches = [Batch(quality) for quality in qualities]\n",
    "        self.systems = 0\n",
    "        self.good = 0\n",
    "        \n",
    "    def get_element(self):\n",
    "        samples = [batch.sample_distribution() for batch in self.batches]\n",
    "        choice = np.argmax(samples)\n",
    "        result = self.batches[choice].get_element()\n",
    "        self.systems = self.systems + 1\n",
    "        self.good = self.good + int(result)"
   ]
  },
  {
   "cell_type": "code",
   "execution_count": 16,
   "id": "533c96b5-dbb0-4eff-b6b9-9a8834ca5714",
   "metadata": {},
   "outputs": [
    {
     "name": "stdout",
     "output_type": "stream",
     "text": [
      "Qualities: [0.21334842 0.68323346 0.46186201 0.19879819 0.89959572 0.57155234\n",
      " 0.91517468 0.5966394  0.09304219 0.78025878 0.00577295 0.33947986\n",
      " 0.61851108 0.24864975 0.21540428 0.12654723 0.25249698 0.41009351\n",
      " 0.55492221 0.68194091]\n"
     ]
    }
   ],
   "source": [
    "test_factory_1 = Factory()\n",
    "qualities = np.random.uniform(0, 1, size=20)\n",
    "print(f'Qualities: {qualities}')\n",
    "test_factory_1.set_batches(qualities)\n",
    "\n",
    "def print_results(factory):\n",
    "    factory.get_element()\n",
    "\n",
    "    alpha_list = []\n",
    "    beta_list = []\n",
    "    \n",
    "    for b in factory.batches:\n",
    "        alpha_list.append(b.alpha)\n",
    "        beta_list.append(b.beta)\n",
    "\n",
    "    for b in factory.batches:\n",
    "        x = np.linspace(beta.ppf(0.01, alpha_list(b), beta_list(b)),beta.ppf(0.99, alpha_list(b), beta_list(b)), 100)\n",
    "        ax.plot(x, beta.pdf(x, alpha_list(b), beta_list(b)),'r-', lw=5, alpha=0.6, label='beta pdf')"
   ]
  },
  {
   "cell_type": "code",
   "execution_count": null,
   "id": "858ab784-71f9-4971-a0ce-117b7a41c9fd",
   "metadata": {},
   "outputs": [],
   "source": []
  }
 ],
 "metadata": {
  "kernelspec": {
   "display_name": "Python 3 (ipykernel)",
   "language": "python",
   "name": "python3"
  },
  "language_info": {
   "codemirror_mode": {
    "name": "ipython",
    "version": 3
   },
   "file_extension": ".py",
   "mimetype": "text/x-python",
   "name": "python",
   "nbconvert_exporter": "python",
   "pygments_lexer": "ipython3",
   "version": "3.10.12"
  }
 },
 "nbformat": 4,
 "nbformat_minor": 5
}

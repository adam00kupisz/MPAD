{
 "cells": [
  {
   "cell_type": "code",
   "execution_count": null,
   "metadata": {
    "vscode": {
     "languageId": "plaintext"
    }
   },
   "outputs": [],
   "source": [
    "with pm.Model() as model:\n",
    "    p_d = pm.Uniform(\"p_d\", 0, 1)\n",
    "    p_observed = pm.Deterministic(\"p_observed\", 0.25 + 0.5*p_d)\n",
    "    occurrences = np.concatenate((np.zeros(70), np.ones(30)))\n",
    "    answers = pm.Bernoulli(\"answers\", p_observed, observed=occurrences)\n",
    "    #yes_count = 30\n",
    "    #answers = pm.Binomial(\"answers\", 100, p_observed, observed=yes_count)\n",
    "    idata = pm.sample(2000, tune=2500)\n",
    "az.plot_trace(idata, show=True, legend=False, figsize=(8, 4))"
   ]
  }
 ],
 "metadata": {
  "language_info": {
   "name": "python"
  }
 },
 "nbformat": 4,
 "nbformat_minor": 2
}
